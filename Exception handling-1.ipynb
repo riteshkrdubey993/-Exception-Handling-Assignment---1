{
 "cells": [
  {
   "cell_type": "markdown",
   "id": "ef43e141-594e-43b0-8d32-9427bbc0bf46",
   "metadata": {},
   "source": [
    "# Q1. What is an Exception in pthon? Write the difference between Exceptions and Syntex errors."
   ]
  },
  {
   "cell_type": "markdown",
   "id": "9bf55750-aeb6-49c7-bec0-3c341a7c1685",
   "metadata": {},
   "source": [
    "In Python, an exception is an abnormal or unexpected event that occurs during the execution of a program. Exceptions are raised when an error or problem is encountered in the code, and they disrupt the normal flow of the program. When an exception is raised, Python will look for an exception handler (a block of code that can handle the exception) to handle the situation gracefully, preventing the program from crashing.\n",
    "\n",
    "Exceptions can occur for various reasons, such as:\n",
    "\n",
    "    1. Division by zero.\n",
    "    2. Trying to access an index that is out of range in a list or tuple.\n",
    "    3. Attempting to open a file that doesn't exist.\n",
    "    4. Calling a function or method with the wrong number or type of arguments.\n",
    "    5. Attempting to perform an invalid operation on data\n",
    "    \n",
    "### Exceptions:\n",
    "\n",
    "1. Exceptions occur during the runtime of a program.\n",
    "2. They are raised when the program encounters an issue while executing a statement or block of code.\n",
    "3. Exceptions can be handled using try...except blocks, allowing the program to gracefully recover from the error.\n",
    "4. Examples of exceptions include \"ZeroDivisionError,\" \"IndexError,\" \"FileNotFoundError,\" and \"TypeError.\"\n",
    "\n",
    "### Syntax Errors:\n",
    "\n",
    "1. Syntax errors occur during the parsing (compilation) of the code before it is executed.\n",
    "2. They are typically caused by violating the rules of the Python language, such as incorrect indentation, missing or misplaced punctuation, or invalid keywords.\n",
    "3. Syntax errors prevent the program from running and must be fixed before the code can be executed.\n",
    "4. Examples of syntax errors include missing colons in loops or functions, using undefined variables, or mismatched parentheses."
   ]
  },
  {
   "cell_type": "markdown",
   "id": "161eba02-40f3-42ce-ae4d-d9ca13975e1b",
   "metadata": {},
   "source": [
    "# Q2. What happens when an exception is not handled? Explain with an example."
   ]
  },
  {
   "cell_type": "markdown",
   "id": "8c460279-67ab-416c-a619-2a3409ccac37",
   "metadata": {},
   "source": [
    "When an exception is not handled in a Python program, it results in what is known as an \"unhandled exception.\" In this case, the normal program flow is interrupted, and an error message is displayed, which can be seen as a traceback. The program will terminate, and the exception details will be printed to the console, making it easier to identify and debug the issue. Unhandled exceptions can cause the program to crash or produce unexpected results.\n",
    "\n",
    "Let's consider an example to illustrate what happens when an exception is not handled:"
   ]
  },
  {
   "cell_type": "code",
   "execution_count": 1,
   "id": "ee2ce090-6591-49e4-bf98-5a5f126c2d47",
   "metadata": {},
   "outputs": [
    {
     "ename": "ZeroDivisionError",
     "evalue": "division by zero",
     "output_type": "error",
     "traceback": [
      "\u001b[0;31m---------------------------------------------------------------------------\u001b[0m",
      "\u001b[0;31mZeroDivisionError\u001b[0m                         Traceback (most recent call last)",
      "Cell \u001b[0;32mIn[1], line 3\u001b[0m\n\u001b[1;32m      1\u001b[0m \u001b[38;5;66;03m# Example of an unhandled exception\u001b[39;00m\n\u001b[1;32m      2\u001b[0m \u001b[38;5;28;01mtry\u001b[39;00m:\n\u001b[0;32m----> 3\u001b[0m     result \u001b[38;5;241m=\u001b[39m \u001b[38;5;241;43m10\u001b[39;49m\u001b[43m \u001b[49m\u001b[38;5;241;43m/\u001b[39;49m\u001b[43m \u001b[49m\u001b[38;5;241;43m0\u001b[39;49m  \u001b[38;5;66;03m# This will raise a \"ZeroDivisionError\" exception.\u001b[39;00m\n\u001b[1;32m      4\u001b[0m \u001b[38;5;28;01mexcept\u001b[39;00m \u001b[38;5;167;01mValueError\u001b[39;00m \u001b[38;5;28;01mas\u001b[39;00m e:\n\u001b[1;32m      5\u001b[0m     \u001b[38;5;28mprint\u001b[39m(\u001b[38;5;124m\"\u001b[39m\u001b[38;5;124mAn exception occurred:\u001b[39m\u001b[38;5;124m\"\u001b[39m, e)\n",
      "\u001b[0;31mZeroDivisionError\u001b[0m: division by zero"
     ]
    }
   ],
   "source": [
    "# Example of an unhandled exception\n",
    "try:\n",
    "    result = 10 / 0  # This will raise a \"ZeroDivisionError\" exception.\n",
    "except ValueError as e:\n",
    "    print(\"An exception occurred:\", e)\n",
    "\n",
    "# The following code will not execute due to the unhandled exception.\n",
    "print(\"This code will not be reached.\")\n"
   ]
  },
  {
   "cell_type": "markdown",
   "id": "0e58b05f-a94b-4d14-8fbc-90d320f9fffb",
   "metadata": {},
   "source": [
    "In the code above, we have a try...except block that attempts to divide 10 by 0, which will raise a \"ZeroDivisionError\" exception. However, the except block is designed to catch a \"ValueError\" exception, not a \"ZeroDivisionError\" exception. Since the exception is not handled by an appropriate except block, it becomes an unhandled exception.\n",
    "\n",
    "When this code is executed, we will see an error message like this:"
   ]
  },
  {
   "cell_type": "code",
   "execution_count": 2,
   "id": "9109add4-2f16-49a9-8680-268c61c0c919",
   "metadata": {},
   "outputs": [
    {
     "name": "stdout",
     "output_type": "stream",
     "text": [
      "An exception occurred: division by zero\n",
      "This code will not be reached.\n"
     ]
    }
   ],
   "source": [
    "# Example of an handled exception\n",
    "try:\n",
    "    result = 10 / 0  # This will raise a \"ZeroDivisionError\" exception.\n",
    "except ZeroDivisionError as e:\n",
    "    print(\"An exception occurred:\", e)\n",
    "\n",
    "# The following code will be execute.\n",
    "print(\"This code will not be reached.\")\n"
   ]
  },
  {
   "cell_type": "markdown",
   "id": "49cc5a9c-56d5-4509-867f-276f27aa8808",
   "metadata": {},
   "source": [
    "# Q3. Which Python statements are used to catch and handle exceptions? Explain with an example"
   ]
  },
  {
   "cell_type": "markdown",
   "id": "6a3722dd-4cb0-491a-b89a-03297bbda3ce",
   "metadata": {},
   "source": [
    "In Python, we can use try...except statements to catch and handle exceptions. The try block contains the code that may raise an exception, and the except block specifies what to do when a particular exception is raised. Here's the basic structure of a try...except statement:"
   ]
  },
  {
   "cell_type": "code",
   "execution_count": 3,
   "id": "55668738-2926-43ad-a442-3dc64e940dc8",
   "metadata": {},
   "outputs": [
    {
     "ename": "IndentationError",
     "evalue": "expected an indented block after 'try' statement on line 1 (2925939807.py, line 3)",
     "output_type": "error",
     "traceback": [
      "\u001b[0;36m  Cell \u001b[0;32mIn[3], line 3\u001b[0;36m\u001b[0m\n\u001b[0;31m    except ExceptionType as e:\u001b[0m\n\u001b[0m    ^\u001b[0m\n\u001b[0;31mIndentationError\u001b[0m\u001b[0;31m:\u001b[0m expected an indented block after 'try' statement on line 1\n"
     ]
    }
   ],
   "source": [
    "try:\n",
    "    # Code that may raise an exception\n",
    "except ExceptionType as e:\n",
    "    # Code to handle the exception"
   ]
  },
  {
   "cell_type": "markdown",
   "id": "14a0a750-20fb-4046-b8dc-e2102b749b09",
   "metadata": {},
   "source": [
    "try: This block contains the code that we want to monitor for exceptions. If an exception occurs within this block, Python will jump to the corresponding except block.\n",
    "\n",
    "except ExceptionType as e: In this block, we specify the type of exception we want to catch. If an exception of the specified type occurs in the try block, it will be caught and handled in the except block. We can use the as keyword to create an alias (e.g., e) for the exception object, which can be useful for inspecting the details of the exception.\n",
    "\n",
    "Here's an example that demonstrates how to use try...except to catch and handle an exception:"
   ]
  },
  {
   "cell_type": "code",
   "execution_count": 4,
   "id": "24c2eff8-4bf9-4905-b43b-d95cd744521e",
   "metadata": {},
   "outputs": [
    {
     "name": "stdin",
     "output_type": "stream",
     "text": [
      "Enter a number:  0\n"
     ]
    }
   ],
   "source": [
    "import logging\n",
    "\n",
    "logging.basicConfig(filename = 'myapp.log', level = logging.DEBUG, format = '%(asctime)s %(message)s')\n",
    "\n",
    "# Creating an object\n",
    "logger = logging.getLogger()\n",
    "\n",
    "# Setting the threshold of logger to DEBUG\n",
    "logger.setLevel(logging.DEBUG)\n",
    "\n",
    "\n",
    "try:\n",
    "    x = int(input(\"Enter a number: \"))\n",
    "    y = 10 / x  # This may raise a \"ZeroDivisionError\" if x is 0\n",
    "except ZeroDivisionError as e:\n",
    "    logger.info(\"Error: You cannot divide by zero.\")\n",
    "except ValueError as e:\n",
    "    logger.info(\"Error: Invalid input. Please enter a valid number.\")\n",
    "else:\n",
    "    logger.info(f\"The result is {y}\")"
   ]
  },
  {
   "cell_type": "markdown",
   "id": "517f11eb-0e06-4bbe-a985-5b2edd875c36",
   "metadata": {},
   "source": [
    "# Q4. Explain with an example:\n",
    "\n",
    "    1. try and else\n",
    "    2. finlly\n",
    "    3. raise"
   ]
  },
  {
   "cell_type": "markdown",
   "id": "e23afe84-00f0-4d56-a576-532601fc9d48",
   "metadata": {},
   "source": [
    "###  1. try and else:\n",
    "\n",
    "The try and else blocks are used to handle exceptions in Python. Code within the try block is executed, and if an exception is raised, it's caught and handled in the except block. However, if no exception occurs, the code in the else block is executed. This is useful when you want to perform some action only if no exception is raised. Here's an example:"
   ]
  },
  {
   "cell_type": "code",
   "execution_count": 5,
   "id": "25cdc53f-e1ea-4825-ac02-f59ae90db918",
   "metadata": {},
   "outputs": [
    {
     "name": "stdin",
     "output_type": "stream",
     "text": [
      "Enter a number:  0\n"
     ]
    }
   ],
   "source": [
    "import logging\n",
    "\n",
    "logging.basicConfig(filename = 'log41.log',\n",
    "                   level = logging.DEBUG,\n",
    "                   format = '%(asctime)s %(message)s')\n",
    "\n",
    "try:\n",
    "    x = int(input(\"Enter a number: \"))\n",
    "    y = 10 / x\n",
    "except ZeroDivisionError:\n",
    "    logging.info(\"Error: Division by zero\")\n",
    "else:\n",
    "    print(f\"Result: {result}\")\n"
   ]
  },
  {
   "cell_type": "markdown",
   "id": "80fa5545-ab36-4b39-9c5a-c026298e5faa",
   "metadata": {},
   "source": [
    "### 2. finally:\n",
    "\n",
    "The finally block is used to specify code that should be executed regardless of whether an exception was raised or not. It's commonly used for cleanup or resource release operations. Here's an example:"
   ]
  },
  {
   "cell_type": "code",
   "execution_count": 2,
   "id": "b14a3328-9047-4189-b204-e9d20cba1532",
   "metadata": {},
   "outputs": [],
   "source": [
    "import logging\n",
    "\n",
    "logging.basicConfig(filename = 'log42',\n",
    "                   level = logging.DEBUG,\n",
    "                   format = '%(asctime)s %(message)s')\n",
    "\n",
    "try:\n",
    "    file = open(\"example.txt\", \"r\")\n",
    "    content = file.read()\n",
    "except FileNotFoundError as e:\n",
    "    logging.info(\"%s File not found\", e)\n",
    "finally:\n",
    "    if 'file' in locals():\n",
    "        file.close()\n"
   ]
  },
  {
   "cell_type": "markdown",
   "id": "8998f43b-5de8-4c15-926a-d6d197912ec4",
   "metadata": {},
   "source": [
    "### 3. Raise:\n",
    "\n",
    "The raise statement is used to explicitly raise an exception in Python. You can use it to trigger specific exceptions in your code when certain conditions are met. Here's an example:"
   ]
  },
  {
   "cell_type": "code",
   "execution_count": 1,
   "id": "989a472f-9fb6-4825-8114-1d531bf70c51",
   "metadata": {},
   "outputs": [],
   "source": [
    "import logging\n",
    "\n",
    "logging.basicConfig(filename = 'log43',\n",
    "                   level = logging.DEBUG,\n",
    "                   format = '%(asctime)s %(message)s')\n",
    "\n",
    "def divide(x, y):\n",
    "    if y == 0:\n",
    "        raise ZeroDivisionError(\"Division by zero is not allowed\")\n",
    "    return x / y\n",
    "\n",
    "try:\n",
    "    result = divide(10, 0)  # This will raise a ZeroDivisionError\n",
    "except ZeroDivisionError as e:\n",
    "    logging.info(f\"Error: {e}\")\n"
   ]
  },
  {
   "cell_type": "markdown",
   "id": "40e58914-aebe-4d9b-8689-cf6acf8353a7",
   "metadata": {},
   "source": [
    "# Q5. What are Custom Exceptions in python? Why do we need Custom Exceptions? Explain with an example"
   ]
  },
  {
   "cell_type": "markdown",
   "id": "8802c790-ded5-48ba-a4cb-22ed74593ea9",
   "metadata": {},
   "source": [
    "Custom exceptions, also known as user-defined exceptions, are exceptions that we can define in Python to handle specific error conditions in our code. While Python provides a wide range of built-in exceptions, there are cases where we may want to create our own exception classes to represent and handle errors that are specific to our application or module. Custom exceptions allow us to provide more meaningful error messages, enhance code readability, and centralize error handling.\n",
    "\n",
    "Here's why you might need custom exceptions:\n",
    "\n",
    "Clarity: Custom exceptions help make our code more readable and self-explanatory. By using custom exception classes with descriptive names, we can provide clear information about the type of error that occurred.\n",
    "\n",
    "Modularity: When developing a complex application or module, custom exceptions allow us to centralize error handling logic. We can catch and handle our custom exceptions at higher levels of our code, making it easier to manage errors across different parts of your application.\n",
    "\n",
    "Customization: We can customize the behavior of our custom exceptions by adding attributes, methods, or other data to the exception class. This can be especially useful for passing additional information about the error."
   ]
  },
  {
   "cell_type": "code",
   "execution_count": 3,
   "id": "16d38321-a2c2-4ee6-b518-e1107d88a0ef",
   "metadata": {},
   "outputs": [
    {
     "name": "stdin",
     "output_type": "stream",
     "text": [
      "Enter a positive integer:  -6\n"
     ]
    },
    {
     "name": "stdout",
     "output_type": "stream",
     "text": [
      "Error: Invalid input: -6 for field: input_value\n"
     ]
    }
   ],
   "source": [
    "class InvalidInputError(Exception):\n",
    "    \"\"\"Custom exception for invalid input values.\"\"\"\n",
    "\n",
    "    def __init__(self, value, field_name):\n",
    "        super().__init__(f\"Invalid input: {value} for field: {field_name}\")\n",
    "        self.value = value\n",
    "        self.field_name = field_name\n",
    "\n",
    "def process_input(value):\n",
    "    if not isinstance(value, int) or value < 0:\n",
    "        raise InvalidInputError(value, \"input_value\")\n",
    "    return value * 2\n",
    "\n",
    "try:\n",
    "    user_input = input(\"Enter a positive integer: \")\n",
    "    user_input = int(user_input)\n",
    "    result = process_input(user_input)\n",
    "except ValueError:\n",
    "    print(\"Invalid input: Please enter a valid integer.\")\n",
    "except InvalidInputError as e:\n",
    "    print(f\"Error: {e}\")\n",
    "else:\n",
    "    print(f\"Result: {result}\")\n"
   ]
  },
  {
   "cell_type": "markdown",
   "id": "8c9df360-78fd-47ba-a59c-ce2423a4b079",
   "metadata": {},
   "source": [
    "# Q6. Create custom excption class. Use this clss to handle an exception."
   ]
  },
  {
   "cell_type": "code",
   "execution_count": null,
   "id": "8dd85846-2466-47aa-94cb-198e0a4422ea",
   "metadata": {},
   "outputs": [],
   "source": []
  }
 ],
 "metadata": {
  "kernelspec": {
   "display_name": "Python 3 (ipykernel)",
   "language": "python",
   "name": "python3"
  },
  "language_info": {
   "codemirror_mode": {
    "name": "ipython",
    "version": 3
   },
   "file_extension": ".py",
   "mimetype": "text/x-python",
   "name": "python",
   "nbconvert_exporter": "python",
   "pygments_lexer": "ipython3",
   "version": "3.10.8"
  }
 },
 "nbformat": 4,
 "nbformat_minor": 5
}
